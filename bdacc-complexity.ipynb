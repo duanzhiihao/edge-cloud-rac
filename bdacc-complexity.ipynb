{
 "cells": [
  {
   "cell_type": "code",
   "execution_count": 1,
   "metadata": {},
   "outputs": [],
   "source": [
    "import json\n",
    "import matplotlib.pyplot as plt\n",
    "\n",
    "from bdacc import bd_accuracy\n",
    "\n",
    "\n",
    "def json_load(fpath):\n",
    "    with open(fpath, 'r') as f:\n",
    "        data = json.load(f)\n",
    "    data['acc'] = [f*100 for f in data['top1']]\n",
    "    return data"
   ]
  },
  {
   "cell_type": "code",
   "execution_count": 6,
   "metadata": {},
   "outputs": [],
   "source": [
    "visualize = False\n",
    "\n",
    "# for fname in ['bpg-m4']:\n",
    "#     data = json_load(f'results/{fname}.json')\n",
    "#     bd = bd_accuracy(base, data, visualize=visualize)\n",
    "#     print(bd)\n",
    "\n",
    "rac_webp = {\n",
    "    'latency': [4.077],\n",
    "    'bpp-acc': [json_load('results/webp-m4.json')]\n",
    "}\n",
    "\n",
    "rac_bpg = {\n",
    "    'latency': [45.3],\n",
    "    'bpp-acc': [json_load('results/bpg-m4.json')]\n",
    "}\n",
    "\n",
    "wacv2022_code = {\n",
    "    # 'acc': [0.5737,    0.71608,  0.74226,  0.75096,  0.75314,  0.75632,  0.75928,  0.75916],\n",
    "    # 'bpp': [0.1465677, 0.330722, 0.595901, 0.886827, 1.311912, 1.831621, 2.592045, 3.653037],\n",
    "    'acc': [0.5737,    0.71608,  0.74226,  0.75096,  0.75314],\n",
    "    'bpp': [0.1465677, 0.330722, 0.595901, 0.886827, 1.311912],\n",
    "    'beta': [1.28,     0.64,     0.32,     0.16,     0.08,     0.04,     0.02,     0.01],\n",
    "    'name': 'irvine2022wacv'\n",
    "}\n",
    "wacv2022_code['acc'] = [f*100 for f in wacv2022_code['acc']]\n",
    "rac_irvine = {\n",
    "    'latency': [13.8],\n",
    "    'bpp-acc': [wacv2022_code]\n",
    "}\n",
    "\n",
    "# base = json_load('results/bpg-m4.json')\n",
    "base = wacv2022_code\n",
    "\n",
    "\n",
    "rac_webp['bd-acc'] = [bd_accuracy(base, stat) for stat in rac_webp['bpp-acc']]\n",
    "rac_bpg['bd-acc'] = [bd_accuracy(base, stat) for stat in rac_bpg['bpp-acc']]\n",
    "rac_irvine['bd-acc'] = [bd_accuracy(base, stat) for stat in rac_irvine['bpp-acc']]\n"
   ]
  },
  {
   "cell_type": "code",
   "execution_count": 7,
   "metadata": {},
   "outputs": [],
   "source": [
    "results_all = dict()\n",
    "# ours enc\n",
    "results_all['ours_s8_t_enc'] = {\n",
    "    'bpp': [0.1216, 0.1596, 0.2154, 0.258, 0.4026, 0.5432, 0.7719, 1.106, 1.689],\n",
    "    'acc': [45.04, 55.28, 64.53, 66.60, 69.89, 70.78, 73.21, 73.35, 74.48],\n",
    "}\n",
    "results_all['ours_s8_m_enc'] = {\n",
    "    'bpp': [0.1109, 0.1779, 0.2696, 0.4023, 0.5909, 0.8472, 1.452],\n",
    "    'acc': [65.16,  68.43,  71.35,  71.46,  72.84,  73.47,  74.07],\n",
    "}\n",
    "results_all['ours_s8_l_enc'] = {\n",
    "    'bpp': [0.1109, 0.1855, 0.2853, 0.4034, 0.5478, 0.818, 1.312],\n",
    "    'acc': [65.54, 69.65, 71.18, 72.15, 72.41, 73.68, 74.11],\n",
    "}\n",
    "rac_ours_enc = {\n",
    "    'latency': [3.95, 6.70, 10.1879],\n",
    "    'bpp-acc': [\n",
    "        results_all['ours_s8_t_enc'],\n",
    "        results_all['ours_s8_m_enc'],\n",
    "        results_all['ours_s8_l_enc']\n",
    "    ]\n",
    "}\n",
    "rac_ours_enc['bd-acc'] = [bd_accuracy(base, stat) for stat in rac_ours_enc['bpp-acc']]\n",
    "\n",
    "# ours joint\n",
    "results_all['ours_s8_tiny'] = {\n",
    "    'bpp': [0.1117, 0.1372, 0.1786, 0.2829, 0.4206, 0.5508, 0.7209, 1.178, 1.747],\n",
    "    'acc': [61.99, 63.95, 67.83, 70.69, 73.06, 73.84, 74.07, 74.64, 74.93],\n",
    "}\n",
    "results_all['ours_s8_medium'] = {\n",
    "    'bpp': [0.1102, 0.162, 0.2124, 0.3188, 0.442, 0.7213, 1.194],\n",
    "    'acc': [68.77, 70.6, 71.53, 72.93, 73.64, 74.88, 75.1],\n",
    "    'name': 'ours-m'\n",
    "}\n",
    "# results_all['ours_s8_small'] = {\n",
    "#     'bpp': [0.09303, 0.1125, 0.1443, 0.1754, 0.2143, 0.3236, 0.4604, 0.7328, 1.222, 2.293],\n",
    "#     'acc': [67.03, 68.19, 69.25, 69.85, 71.14, 72.63, 73.55, 74.72, 75.17, 75.27],\n",
    "# }\n",
    "rac_ours_joint = {\n",
    "    'latency': [3.95, 6.70],\n",
    "    # 'latency': [3.95, 6.70, 10.1879],\n",
    "    'bpp-acc': [\n",
    "        results_all['ours_s8_tiny'],\n",
    "        results_all['ours_s8_medium'],\n",
    "        # results_all['ours_s8_l_enc']\n",
    "    ]\n",
    "}\n",
    "rac_ours_joint['bd-acc'] = [bd_accuracy(base, stat) for stat in rac_ours_joint['bpp-acc']]"
   ]
  },
  {
   "cell_type": "code",
   "execution_count": 31,
   "metadata": {},
   "outputs": [
    {
     "data": {
      "image/png": "[encoded data removed]",
      "text/plain": [
       "<Figure size 432x360 with 1 Axes>"
      ]
     },
     "metadata": {
      "needs_background": "light"
     },
     "output_type": "display_data"
    }
   ],
   "source": [
    "from matplotlib.ticker import ScalarFormatter\n",
    "\n",
    "fig1, ax = plt.subplots(figsize=(6,5))\n",
    "plt.plot(rac_ours_joint['latency'], rac_ours_joint['bd-acc'], label='Feature coding: ours (joint)',\n",
    "         marker='^', markersize=8)\n",
    "plt.plot(rac_irvine['latency'], rac_irvine['bd-acc'], label='Feature coding: Entropic Student (joint)',\n",
    "         marker='^', markersize=8)\n",
    "plt.plot(rac_ours_enc['latency'], rac_ours_enc['bd-acc'], label='Feature coding: ours',\n",
    "         marker='.', markersize=12)\n",
    "plt.plot(rac_bpg['latency'], rac_bpg['bd-acc'], label='Image coding: BPG',\n",
    "         marker='.', markersize=12)\n",
    "plt.plot(rac_webp['latency'], rac_webp['bd-acc'], label='Image coding: WebP',\n",
    "         marker='.', markersize=12)\n",
    "\n",
    "\n",
    "plt.xlabel('Encoding latency on CPU (ms)')\n",
    "plt.ylabel('BD-accuracy')\n",
    "plt.xscale('log')\n",
    "plt.xticks([4, 6, 10, 20, 30, 40, 50])\n",
    "ax.get_xaxis().set_major_formatter(ScalarFormatter())\n",
    "plt.grid(True, alpha=0.32)\n",
    "plt.legend()\n",
    "plt.tight_layout()\n",
    "plt.savefig('rac.pdf')\n"
   ]
  },
  {
   "cell_type": "code",
   "execution_count": null,
   "metadata": {},
   "outputs": [],
   "source": []
  },
  {
   "cell_type": "code",
   "execution_count": null,
   "metadata": {},
   "outputs": [],
   "source": []
  }
 ],
 "metadata": {
  "kernelspec": {
   "display_name": "Python 3.9.7 ('pt110env')",
   "language": "python",
   "name": "python3"
  },
  "language_info": {
   "codemirror_mode": {
    "name": "ipython",
    "version": 3
   },
   "file_extension": ".py",
   "mimetype": "text/x-python",
   "name": "python",
   "nbconvert_exporter": "python",
   "pygments_lexer": "ipython3",
   "version": "3.9.7"
  },
  "orig_nbformat": 4,
  "vscode": {
   "interpreter": {
    "hash": "dd99ce241fc9a98adb16dacebaa58469dd0c84ca3cfa9b25e7e9cb4caa7bb934"
   }
  }
 },
 "nbformat": 4,
 "nbformat_minor": 2
}
