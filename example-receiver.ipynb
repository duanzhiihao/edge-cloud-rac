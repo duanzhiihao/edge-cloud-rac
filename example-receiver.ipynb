{
 "cells": [
  {
   "cell_type": "code",
   "execution_count": null,
   "metadata": {},
   "outputs": [],
   "source": [
    "import pickle\n",
    "import torch"
   ]
  },
  {
   "cell_type": "code",
   "execution_count": 2,
   "metadata": {},
   "outputs": [],
   "source": [
    "bits_path = 'images/ILSVRC2012_val_00030924.bits'"
   ]
  },
  {
   "cell_type": "code",
   "execution_count": 3,
   "metadata": {},
   "outputs": [],
   "source": [
    "# initialize model\n",
    "from models.registry import get_model\n",
    "model_name = 'ours_n4'\n",
    "checkpoint_path = f'checkpoints/{model_name}/lmb1.28.pt'\n",
    "\n",
    "model = get_model('ours_n4')(teacher=False)\n",
    "msd = torch.load(checkpoint_path)['model']\n",
    "model.load_state_dict(msd)\n",
    "model.eval()\n",
    "model.update()"
   ]
  },
  {
   "cell_type": "code",
   "execution_count": 4,
   "metadata": {},
   "outputs": [
    {
     "name": "stdout",
     "output_type": "stream",
     "text": [
      "Predicted class index: 258\n"
     ]
    }
   ],
   "source": [
    "# decompress\n",
    "with open(bits_path, 'rb') as f:\n",
    "    compressed_obj = pickle.load(file=f)\n",
    "prediction = model.receive(compressed_obj)\n",
    "class_index = torch.argmax(prediction).item()\n",
    "print('Predicted class index:', class_index)"
   ]
  },
  {
   "cell_type": "code",
   "execution_count": 5,
   "metadata": {},
   "outputs": [
    {
     "name": "stdout",
     "output_type": "stream",
     "text": [
      "Predicted class [imagenet ID, name] = ['n02111889', 'Samoyed']\n"
     ]
    }
   ],
   "source": [
    "# get human readable label\n",
    "import json\n",
    "import requests\n",
    "r = requests.get('https://storage.googleapis.com/download.tensorflow.org/data/imagenet_class_index.json')\n",
    "class_names = json.loads(r.text)\n",
    "\n",
    "print(f'Predicted class [imagenet ID, name] = {class_names[str(class_index)]}')"
   ]
  }
 ],
 "metadata": {
  "kernelspec": {
   "display_name": "Python 3.9.12 ('pt112env')",
   "language": "python",
   "name": "python3"
  },
  "language_info": {
   "codemirror_mode": {
    "name": "ipython",
    "version": 3
   },
   "file_extension": ".py",
   "mimetype": "text/x-python",
   "name": "python",
   "nbconvert_exporter": "python",
   "pygments_lexer": "ipython3",
   "version": "3.9.12"
  },
  "orig_nbformat": 4,
  "vscode": {
   "interpreter": {
    "hash": "a7011b38e07ec2da0d01422c79c574946d8a01efe9f84b7c651d5bba01f4b044"
   }
  }
 },
 "nbformat": 4,
 "nbformat_minor": 2
}
