{
 "cells": [
  {
   "cell_type": "code",
   "execution_count": null,
   "metadata": {},
   "outputs": [],
   "source": [
    "from PIL import Image\n",
    "import pickle\n",
    "import torch\n",
    "import torchvision as tv"
   ]
  },
  {
   "cell_type": "code",
   "execution_count": 2,
   "metadata": {},
   "outputs": [],
   "source": [
    "# input image path\n",
    "impath = 'images/ILSVRC2012_val_00030924.png'\n",
    "# save bits file path\n",
    "output_bits_path = 'images/ILSVRC2012_val_00030924.bits'"
   ]
  },
  {
   "cell_type": "code",
   "execution_count": 3,
   "metadata": {},
   "outputs": [],
   "source": [
    "# read image\n",
    "img = Image.open(impath)\n",
    "transform = tv.transforms.Compose([\n",
    "    tv.transforms.ToTensor(),\n",
    "    tv.transforms.Normalize(mean=(0.485, 0.456, 0.406), std=(0.229, 0.224, 0.225))\n",
    "])\n",
    "im = transform(img).unsqueeze(0)"
   ]
  },
  {
   "cell_type": "code",
   "execution_count": 4,
   "metadata": {},
   "outputs": [],
   "source": [
    "# initialize model\n",
    "from models.registry import get_model\n",
    "model_name = 'ours_n4'\n",
    "checkpoint_path = f'checkpoints/{model_name}/lmb1.28.pt'\n",
    "\n",
    "model = get_model('ours_n4')(teacher=False)\n",
    "msd = torch.load(checkpoint_path)['model']\n",
    "model.load_state_dict(msd)\n",
    "model.eval()\n",
    "model.update()"
   ]
  },
  {
   "cell_type": "code",
   "execution_count": 5,
   "metadata": {},
   "outputs": [],
   "source": [
    "# compress\n",
    "compressed_obj = model.send(im)\n",
    "with open(output_bits_path, 'wb') as f:\n",
    "    pickle.dump(compressed_obj, file=f)"
   ]
  }
 ],
 "metadata": {
  "kernelspec": {
   "display_name": "Python 3.9.12 ('pt112env')",
   "language": "python",
   "name": "python3"
  },
  "language_info": {
   "codemirror_mode": {
    "name": "ipython",
    "version": 3
   },
   "file_extension": ".py",
   "mimetype": "text/x-python",
   "name": "python",
   "nbconvert_exporter": "python",
   "pygments_lexer": "ipython3",
   "version": "3.9.12"
  },
  "orig_nbformat": 4,
  "vscode": {
   "interpreter": {
    "hash": "a7011b38e07ec2da0d01422c79c574946d8a01efe9f84b7c651d5bba01f4b044"
   }
  }
 },
 "nbformat": 4,
 "nbformat_minor": 2
}
