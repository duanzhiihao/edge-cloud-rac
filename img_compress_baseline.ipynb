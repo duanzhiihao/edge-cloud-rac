{
 "cells": [
  {
   "cell_type": "code",
   "execution_count": 1,
   "metadata": {},
   "outputs": [],
   "source": [
    "from collections import defaultdict\n",
    "import torch\n",
    "import torchvision as tv\n",
    "\n",
    "from mycv.paths import IMAGENET_DIR\n",
    "from mycv.datasets.imcls import imcls_evaluate, get_input_normalization\n"
   ]
  },
  {
   "cell_type": "code",
   "execution_count": 2,
   "metadata": {},
   "outputs": [],
   "source": [
    "@torch.no_grad()\n",
    "def evaluate(root, batch_size=64, workers=0):\n",
    "    transform = tv.transforms.Compose([\n",
    "        tv.transforms.ToTensor(),\n",
    "        get_input_normalization('imagenet')\n",
    "    ])\n",
    "    dataset = tv.datasets.ImageFolder(root=root, transform=transform)\n",
    "    dataloader = torch.utils.data.DataLoader(\n",
    "        dataset, batch_size=batch_size, shuffle=False, num_workers=workers,\n",
    "        pin_memory=True, drop_last=False\n",
    "    )\n",
    "    model = tv.models.resnet50(pretrained=True)\n",
    "    model = model.cuda()\n",
    "    model.eval()\n",
    "    results = imcls_evaluate(model, dataloader)\n",
    "    # print(results)\n",
    "    return results"
   ]
  },
  {
   "cell_type": "code",
   "execution_count": 3,
   "metadata": {},
   "outputs": [
    {
     "name": "stdout",
     "output_type": "stream",
     "text": [
      "Evaluating <class 'torchvision.models.resnet.ResNet'>, device=cuda:0, dtype=torch.float32\n",
      "batch_size=128, num_workers=8\n"
     ]
    },
    {
     "name": "stderr",
     "output_type": "stream",
     "text": [
      "top1=0.4667, top5=0.7148, : 100%|██████████| 391/391 [00:49<00:00,  7.93it/s]\n"
     ]
    },
    {
     "name": "stdout",
     "output_type": "stream",
     "text": [
      "Evaluating <class 'torchvision.models.resnet.ResNet'>, device=cuda:0, dtype=torch.float32\n",
      "batch_size=128, num_workers=8\n"
     ]
    },
    {
     "name": "stderr",
     "output_type": "stream",
     "text": [
      "top1=0.5637, top5=0.798, : 100%|██████████| 391/391 [00:43<00:00,  8.93it/s] \n"
     ]
    },
    {
     "name": "stdout",
     "output_type": "stream",
     "text": [
      "Evaluating <class 'torchvision.models.resnet.ResNet'>, device=cuda:0, dtype=torch.float32\n",
      "batch_size=128, num_workers=8\n"
     ]
    },
    {
     "name": "stderr",
     "output_type": "stream",
     "text": [
      "top1=0.6134, top5=0.8405, : 100%|██████████| 391/391 [00:43<00:00,  9.06it/s]\n"
     ]
    },
    {
     "name": "stdout",
     "output_type": "stream",
     "text": [
      "Evaluating <class 'torchvision.models.resnet.ResNet'>, device=cuda:0, dtype=torch.float32\n",
      "batch_size=128, num_workers=8\n"
     ]
    },
    {
     "name": "stderr",
     "output_type": "stream",
     "text": [
      "top1=0.6739, top5=0.8814, : 100%|██████████| 391/391 [00:45<00:00,  8.68it/s]\n"
     ]
    },
    {
     "name": "stdout",
     "output_type": "stream",
     "text": [
      "Evaluating <class 'torchvision.models.resnet.ResNet'>, device=cuda:0, dtype=torch.float32\n",
      "batch_size=128, num_workers=8\n"
     ]
    },
    {
     "name": "stderr",
     "output_type": "stream",
     "text": [
      "top1=0.7055, top5=0.8987, : 100%|██████████| 391/391 [00:46<00:00,  8.33it/s]\n"
     ]
    },
    {
     "name": "stdout",
     "output_type": "stream",
     "text": [
      "Evaluating <class 'torchvision.models.resnet.ResNet'>, device=cuda:0, dtype=torch.float32\n",
      "batch_size=128, num_workers=8\n"
     ]
    },
    {
     "name": "stderr",
     "output_type": "stream",
     "text": [
      "top1=0.7214, top5=0.9087, : 100%|██████████| 391/391 [00:47<00:00,  8.30it/s]\n"
     ]
    },
    {
     "name": "stdout",
     "output_type": "stream",
     "text": [
      "Evaluating <class 'torchvision.models.resnet.ResNet'>, device=cuda:0, dtype=torch.float32\n",
      "batch_size=128, num_workers=8\n"
     ]
    },
    {
     "name": "stderr",
     "output_type": "stream",
     "text": [
      "top1=0.7396, top5=0.9192, : 100%|██████████| 391/391 [00:47<00:00,  8.30it/s]"
     ]
    },
    {
     "name": "stdout",
     "output_type": "stream",
     "text": [
      "quality   : [1, 8, 16, 32, 48, 64, 80]\n",
      "top1      : [0.46670000000476836, 0.5636999999952317, 0.6133999999809265, 0.6739000000095368, 0.70546, 0.7213799999809265, 0.7395600000190735]\n",
      "top5      : [0.7148199999904633, 0.7980199999809265, 0.8404999999809265, 0.88136, 0.8986600000190735, 0.9086999999809265, 0.9191800000381469]\n"
     ]
    },
    {
     "name": "stderr",
     "output_type": "stream",
     "text": [
      "\n"
     ]
    }
   ],
   "source": [
    "results = defaultdict(list)\n",
    "for q in [1, 8, 16, 32, 48, 64, 80]:\n",
    "    root = IMAGENET_DIR / f'webp/val_224_0.875_bilinear_q{q}'\n",
    "    res = evaluate(root, batch_size=128, workers=8)\n",
    "    results['quality'].append(q)\n",
    "    for k,v in res.items():\n",
    "        results[k].append(v)\n",
    "\n",
    "for k,vlist in results.items():\n",
    "    print(f'{k:<10s}:', vlist)"
   ]
  },
  {
   "cell_type": "code",
   "execution_count": null,
   "metadata": {},
   "outputs": [],
   "source": [
    "results = defaultdict(list)\n",
    "for q in [1, 8, 16, 32, 48, 64, 80]:\n",
    "    root = IMAGENET_DIR / f'webp/val_224_0.875_bilinear_q{q}'\n",
    "    res = evaluate(root, batch_size=128, workers=8)\n",
    "    results['quality'].append(q)\n",
    "    for k,v in res.items():\n",
    "        results[k].append(v)\n",
    "\n",
    "for k,vlist in results.items():\n",
    "    print(f'{k:<10s}:', vlist)"
   ]
  },
  {
   "cell_type": "code",
   "execution_count": null,
   "metadata": {},
   "outputs": [],
   "source": []
  },
  {
   "cell_type": "code",
   "execution_count": null,
   "metadata": {},
   "outputs": [],
   "source": []
  }
 ],
 "metadata": {
  "interpreter": {
   "hash": "dd99ce241fc9a98adb16dacebaa58469dd0c84ca3cfa9b25e7e9cb4caa7bb934"
  },
  "kernelspec": {
   "display_name": "Python 3.9.7 ('pt110env')",
   "language": "python",
   "name": "python3"
  },
  "language_info": {
   "codemirror_mode": {
    "name": "ipython",
    "version": 3
   },
   "file_extension": ".py",
   "mimetype": "text/x-python",
   "name": "python",
   "nbconvert_exporter": "python",
   "pygments_lexer": "ipython3",
   "version": "3.9.7"
  },
  "orig_nbformat": 4
 },
 "nbformat": 4,
 "nbformat_minor": 2
}
